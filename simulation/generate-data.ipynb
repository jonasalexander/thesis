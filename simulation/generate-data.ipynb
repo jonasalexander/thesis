{
 "cells": [
  {
   "cell_type": "code",
   "execution_count": 1,
   "id": "9635f4c8-98c4-444f-8a08-61aa59e63fa6",
   "metadata": {},
   "outputs": [],
   "source": [
    "import pandas as pd\n",
    "\n",
    "import numpy as np"
   ]
  },
  {
   "cell_type": "code",
   "execution_count": 2,
   "id": "30c442e8-43d1-4809-a24e-a4f458161ccf",
   "metadata": {},
   "outputs": [],
   "source": [
    "raw_df = pd.read_csv(\"~/Desktop/thesis/data/Adams_experiment_cleaned_filtered.csv\")\n",
    "raw_df[\"last\"] = ~raw_df[\"did_continue_eval\"]\n",
    "n = 10000 #len(raw_df[\"subject\"].unique())\n",
    "months = raw_df.groupby(\"word\").agg({\"s2_value\": \"mean\"}).reset_index()"
   ]
  },
  {
   "cell_type": "code",
   "execution_count": 3,
   "id": "5ef1cdec-812f-4366-85a1-c6659b280a64",
   "metadata": {},
   "outputs": [
    {
     "output_type": "execute_result",
     "data": {
      "text/plain": [
       "    subject.id       word  value  order\n",
       "0            0      APRIL     18      1\n",
       "1            0        MAY     25      2\n",
       "2            0      MARCH     18      3\n",
       "3            0  SEPTEMBER     16      4\n",
       "4            0    OCTOBER     20      5\n",
       "5            0     AUGUST      7      6\n",
       "6            0       JUNE     14      7\n",
       "7            0    JANUARY     14      8\n",
       "8            0       JULY     12      9\n",
       "9            0   FEBRUARY      2     10\n",
       "10           0   NOVEMBER     22     11\n",
       "11           0   DECEMBER      3     12\n",
       "12           1       JULY     12      1\n",
       "13           1    JANUARY     14      2\n",
       "14           1      MARCH     18      3\n",
       "15           1   DECEMBER      3      4"
      ],
      "text/html": "<div>\n<style scoped>\n    .dataframe tbody tr th:only-of-type {\n        vertical-align: middle;\n    }\n\n    .dataframe tbody tr th {\n        vertical-align: top;\n    }\n\n    .dataframe thead th {\n        text-align: right;\n    }\n</style>\n<table border=\"1\" class=\"dataframe\">\n  <thead>\n    <tr style=\"text-align: right;\">\n      <th></th>\n      <th>subject.id</th>\n      <th>word</th>\n      <th>value</th>\n      <th>order</th>\n    </tr>\n  </thead>\n  <tbody>\n    <tr>\n      <th>0</th>\n      <td>0</td>\n      <td>APRIL</td>\n      <td>18</td>\n      <td>1</td>\n    </tr>\n    <tr>\n      <th>1</th>\n      <td>0</td>\n      <td>MAY</td>\n      <td>25</td>\n      <td>2</td>\n    </tr>\n    <tr>\n      <th>2</th>\n      <td>0</td>\n      <td>MARCH</td>\n      <td>18</td>\n      <td>3</td>\n    </tr>\n    <tr>\n      <th>3</th>\n      <td>0</td>\n      <td>SEPTEMBER</td>\n      <td>16</td>\n      <td>4</td>\n    </tr>\n    <tr>\n      <th>4</th>\n      <td>0</td>\n      <td>OCTOBER</td>\n      <td>20</td>\n      <td>5</td>\n    </tr>\n    <tr>\n      <th>5</th>\n      <td>0</td>\n      <td>AUGUST</td>\n      <td>7</td>\n      <td>6</td>\n    </tr>\n    <tr>\n      <th>6</th>\n      <td>0</td>\n      <td>JUNE</td>\n      <td>14</td>\n      <td>7</td>\n    </tr>\n    <tr>\n      <th>7</th>\n      <td>0</td>\n      <td>JANUARY</td>\n      <td>14</td>\n      <td>8</td>\n    </tr>\n    <tr>\n      <th>8</th>\n      <td>0</td>\n      <td>JULY</td>\n      <td>12</td>\n      <td>9</td>\n    </tr>\n    <tr>\n      <th>9</th>\n      <td>0</td>\n      <td>FEBRUARY</td>\n      <td>2</td>\n      <td>10</td>\n    </tr>\n    <tr>\n      <th>10</th>\n      <td>0</td>\n      <td>NOVEMBER</td>\n      <td>22</td>\n      <td>11</td>\n    </tr>\n    <tr>\n      <th>11</th>\n      <td>0</td>\n      <td>DECEMBER</td>\n      <td>3</td>\n      <td>12</td>\n    </tr>\n    <tr>\n      <th>12</th>\n      <td>1</td>\n      <td>JULY</td>\n      <td>12</td>\n      <td>1</td>\n    </tr>\n    <tr>\n      <th>13</th>\n      <td>1</td>\n      <td>JANUARY</td>\n      <td>14</td>\n      <td>2</td>\n    </tr>\n    <tr>\n      <th>14</th>\n      <td>1</td>\n      <td>MARCH</td>\n      <td>18</td>\n      <td>3</td>\n    </tr>\n    <tr>\n      <th>15</th>\n      <td>1</td>\n      <td>DECEMBER</td>\n      <td>3</td>\n      <td>4</td>\n    </tr>\n  </tbody>\n</table>\n</div>"
     },
     "metadata": {},
     "execution_count": 3
    }
   ],
   "source": [
    "# Output: last, subject.id, value, order\n",
    "\n",
    "df = pd.DataFrame({\"subject.id\": range(n)})\n",
    "df = df.merge(months, how=\"cross\").groupby(\"subject.id\").sample(frac=1).reset_index(drop=True)\n",
    "df[\"order\"] = df.groupby(\"subject.id\").cumcount()+1\n",
    "df = df.rename(columns={\"s2_value\": \"value\"})\n",
    "df.head(16)"
   ]
  },
  {
   "cell_type": "code",
   "execution_count": 4,
   "id": "4d47f852-2232-49da-8589-fc2cc87048f2",
   "metadata": {},
   "outputs": [],
   "source": [
    "def generate_data(stop_proba_func, n=10000):\n",
    "    \"\"\"\n",
    "    Options\n",
    "    stop_proba_func: Takes in df of subject's 12 months and must return 12 probabilities of stopping *after* the current one\n",
    "    \"\"\"\n",
    "\n",
    "    def random_stopped(df):\n",
    "        stop_proba = stop_proba_func(df)\n",
    "        df[\"last\"] = [True if x == 1 else False for x in np.random.binomial([1]*12, stop_proba)]\n",
    "        for i, x in enumerate(df[\"last\"]):\n",
    "            if x:\n",
    "                df = df.iloc[:i+1]\n",
    "                break\n",
    "        return df\n",
    "\n",
    "    return df.groupby(\"subject.id\").apply(random_stopped).reset_index(drop=True)"
   ]
  },
  {
   "cell_type": "code",
   "execution_count": 5,
   "id": "50fa97cf-128b-4148-a013-d24d472ece20",
   "metadata": {},
   "outputs": [
    {
     "output_type": "execute_result",
     "data": {
      "text/plain": [
       "       did_continue_eval\n",
       "order                   \n",
       "1.0             0.908309\n",
       "2.0             0.859843\n",
       "3.0             0.800366\n",
       "4.0             0.694253\n",
       "5.0             0.665563\n",
       "6.0             0.570732\n",
       "7.0             0.582609\n",
       "8.0             0.552239\n",
       "9.0             0.611111\n",
       "10.0            0.750000\n",
       "11.0            0.705882\n",
       "12.0            0.000000"
      ],
      "text/html": "<div>\n<style scoped>\n    .dataframe tbody tr th:only-of-type {\n        vertical-align: middle;\n    }\n\n    .dataframe tbody tr th {\n        vertical-align: top;\n    }\n\n    .dataframe thead th {\n        text-align: right;\n    }\n</style>\n<table border=\"1\" class=\"dataframe\">\n  <thead>\n    <tr style=\"text-align: right;\">\n      <th></th>\n      <th>did_continue_eval</th>\n    </tr>\n    <tr>\n      <th>order</th>\n      <th></th>\n    </tr>\n  </thead>\n  <tbody>\n    <tr>\n      <th>1.0</th>\n      <td>0.908309</td>\n    </tr>\n    <tr>\n      <th>2.0</th>\n      <td>0.859843</td>\n    </tr>\n    <tr>\n      <th>3.0</th>\n      <td>0.800366</td>\n    </tr>\n    <tr>\n      <th>4.0</th>\n      <td>0.694253</td>\n    </tr>\n    <tr>\n      <th>5.0</th>\n      <td>0.665563</td>\n    </tr>\n    <tr>\n      <th>6.0</th>\n      <td>0.570732</td>\n    </tr>\n    <tr>\n      <th>7.0</th>\n      <td>0.582609</td>\n    </tr>\n    <tr>\n      <th>8.0</th>\n      <td>0.552239</td>\n    </tr>\n    <tr>\n      <th>9.0</th>\n      <td>0.611111</td>\n    </tr>\n    <tr>\n      <th>10.0</th>\n      <td>0.750000</td>\n    </tr>\n    <tr>\n      <th>11.0</th>\n      <td>0.705882</td>\n    </tr>\n    <tr>\n      <th>12.0</th>\n      <td>0.000000</td>\n    </tr>\n  </tbody>\n</table>\n</div>"
     },
     "metadata": {},
     "execution_count": 5
    }
   ],
   "source": [
    "raw_df.groupby(\"order\").agg({\"did_continue_eval\": \"mean\"})"
   ]
  },
  {
   "cell_type": "code",
   "execution_count": 6,
   "id": "70df7b5f-9a86-463f-9c82-9504394da1ce",
   "metadata": {},
   "outputs": [],
   "source": [
    "# random based on real-life average stopping probabilities based on number evaluated so far\n",
    "\n",
    "empirical_stop_proba = raw_df.groupby(\"order\").agg({\"last\": \"mean\"})[\"last\"].values\n",
    "\n",
    "def stop_proba_random(df):\n",
    "    return empirical_stop_proba\n",
    "\n",
    "random = generate_data(stop_proba_random)\n",
    "random.head(16)\n",
    "\n",
    "random.to_csv(\"~/Desktop/thesis/data/generated_random.csv\")"
   ]
  },
  {
   "cell_type": "code",
   "execution_count": 41,
   "id": "f7f1be16-52c2-42c3-b7f5-57d6c3261cdf",
   "metadata": {},
   "outputs": [],
   "source": [
    "# optimal with no revisiting (assumption you can't go back)\n",
    "# Explore until explore_index, then take next that is at least as good\n",
    "\n",
    "def stop_proba_random(df):\n",
    "    explore_index = 3 # 1 + the zero-indexed last index for explore before exploit\n",
    "    highest = max(df[\"value\"].iloc[:explore_index])\n",
    "    stop_proba = [1 if i >= explore_index and x >= highest else 0 for i, x in enumerate(df[\"value\"])]\n",
    "    if sum(stop_proba) == 0:\n",
    "        stop_proba[-1] = 1\n",
    "    return stop_proba\n",
    "\n",
    "optimal_no_revisit = generate_data(stop_proba_random)\n",
    "optimal_no_revisit.head(16)\n",
    "\n",
    "optimal_no_revisit.to_csv(\"~/Desktop/thesis/data/generated_optimal_no_revisit.csv\")\n",
    "\n",
    "# 169 have best value in the top 3 and thus have to go through all the months\n",
    "#count"
   ]
  },
  {
   "cell_type": "code",
   "execution_count": null,
   "id": "ab0e326a-01a5-4dec-9ff2-b399d2ab9e38",
   "metadata": {},
   "outputs": [],
   "source": [
    "# optimal as a function of most recent value?\n",
    "# - need to assume some cost of time...\n",
    "\n",
    "count = 0\n",
    "def stop_proba_random(df):\n",
    "    \n",
    "    explore_index = 3 # 1 + the zero-indexed last index for explore before exploit\n",
    "    highest = max(df[\"value\"].iloc[:3])\n",
    "    stop_proba = [1 if i >= explore_index and x >= highest else 0 for i, x in enumerate(df[\"value\"])]\n",
    "    if sum(stop_proba) == 0:\n",
    "        global count\n",
    "        count += 1\n",
    "    return stop_proba\n",
    "\n",
    "optimal_stopping = generate_data(stop_proba_random)\n",
    "optimal_stopping.head(16)\n"
   ]
  },
  {
   "cell_type": "code",
   "execution_count": null,
   "id": "3b9e2f5f-e57f-4f8b-9864-f5552f220ccd",
   "metadata": {},
   "outputs": [],
   "source": [
    "# optimal based on limited knowledge/set of variables?\n",
    "# as a function of best value so far (interaction with order)\n"
   ]
  },
  {
   "cell_type": "code",
   "execution_count": null,
   "id": "7f3c86c2-50ec-49f0-8d0f-6cbc5ce0b93e",
   "metadata": {},
   "outputs": [],
   "source": [
    "order_filter = 2\n",
    "filtered_result = result[result[\"order\"]==order_filter]\n",
    "\n",
    "minimum = min(month_values)\n",
    "maximim = max(month_values)\n",
    "non_last_eval = filtered_result.loc[filtered_result[\"did_continue_eval\"], \"highest_value_so_far\"]\n",
    "last_eval = filtered_result.loc[~filtered_result[\"did_continue_eval\"], \"highest_value_so_far\"]\n",
    "\n",
    "bins = np.linspace(minimum, maximim, 10)\n",
    "\n",
    "plt.hist(non_last_eval, bins, alpha=0.5, label='continued evaluating', weights=np.ones(len(non_last_eval)) / len(non_last_eval))\n",
    "plt.hist(last_eval, bins, alpha=0.5, label='stopped', weights=np.ones(len(last_eval)) / len(last_eval))\n",
    "plt.legend(loc='upper left')\n",
    "plt.xlabel(\"Value of best action so far\")\n",
    "plt.ylabel(\"Percentage of situations\")\n",
    "plt.show()"
   ]
  }
 ],
 "metadata": {
  "kernelspec": {
   "name": "python394jvsc74a57bd00d48722edff9f544bdbb32062c3cb5af655a1a1ff3f38fc3f80f1ede0cf065ed",
   "display_name": "Python 3.9.4 64-bit ('thesis')"
  },
  "language_info": {
   "codemirror_mode": {
    "name": "ipython",
    "version": 3
   },
   "file_extension": ".py",
   "mimetype": "text/x-python",
   "name": "python",
   "nbconvert_exporter": "python",
   "pygments_lexer": "ipython3",
   "version": "3.9.4"
  }
 },
 "nbformat": 4,
 "nbformat_minor": 5
}
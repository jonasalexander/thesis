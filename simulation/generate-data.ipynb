{
 "cells": [
  {
   "cell_type": "code",
   "execution_count": null,
   "id": "9635f4c8-98c4-444f-8a08-61aa59e63fa6",
   "metadata": {},
   "outputs": [],
   "source": [
    "\"\"\"\n",
    "This notebook generates simulation data, using empirical data to adjust free parameters\n",
    "\"\"\""
   ]
  },
  {
   "cell_type": "code",
   "execution_count": 1,
   "id": "58848669-ab33-412c-8277-ea994f1879c2",
   "metadata": {},
   "outputs": [],
   "source": [
    "%load_ext autoreload"
   ]
  },
  {
   "cell_type": "code",
   "execution_count": 2,
   "id": "c6b433a0-216b-49b5-8c3f-de51892043e2",
   "metadata": {},
   "outputs": [],
   "source": [
    "%autoreload\n",
    "\n",
    "import pandas as pd\n",
    "import numpy as np\n",
    "\n",
    "from utils import generate_data"
   ]
  },
  {
   "cell_type": "code",
   "execution_count": 3,
   "id": "30c442e8-43d1-4809-a24e-a4f458161ccf",
   "metadata": {},
   "outputs": [],
   "source": [
    "raw_df = pd.read_csv(\"~/Desktop/thesis/data/Adams_experiment_cleaned_filtered.csv\")\n",
    "raw_df[\"last\"] = ~raw_df[\"did_continue_eval\"]\n",
    "n = 10000 #len(raw_df[\"subject\"].unique())\n",
    "months = raw_df.groupby(\"word\").agg({\"s2_value\": \"mean\"}).reset_index()"
   ]
  },
  {
   "cell_type": "code",
   "execution_count": 4,
   "id": "70df7b5f-9a86-463f-9c82-9504394da1ce",
   "metadata": {},
   "outputs": [],
   "source": [
    "# random based on real-life average stopping probabilities based on number evaluated so far\n",
    "\n",
    "empirical_stop_proba = raw_df.groupby(\"order\").agg({\"last\": \"mean\"})[\"last\"].values\n",
    "\n",
    "def stop_proba_random(_):\n",
    "    return empirical_stop_proba\n",
    "\n",
    "random = generate_data(n, months, stop_proba_random)\n",
    "random.head(16)\n",
    "\n",
    "random.to_csv(\"~/Desktop/thesis/data/generated_random.csv\")"
   ]
  },
  {
   "cell_type": "code",
   "execution_count": 5,
   "id": "f7f1be16-52c2-42c3-b7f5-57d6c3261cdf",
   "metadata": {},
   "outputs": [],
   "source": [
    "# optimal with no revisiting (assumption you can't go back)\n",
    "# Explore until explore_index, then take next that is at least as good\n",
    "\n",
    "def stop_proba_no_revisiting(df):\n",
    "    explore_index = 3 # 1 + the zero-indexed last index for explore before exploit\n",
    "    highest = max(df[\"value\"].iloc[:explore_index])\n",
    "    stop_proba = [1 if i >= explore_index and x >= highest else 0 for i, x in enumerate(df[\"value\"])]\n",
    "    if sum(stop_proba) == 0:\n",
    "        stop_proba[-1] = 1\n",
    "    return stop_proba\n",
    "\n",
    "optimal_no_revisit = generate_data(n, months, stop_proba_no_revisiting)\n",
    "optimal_no_revisit.head(16)\n",
    "\n",
    "optimal_no_revisit.to_csv(\"~/Desktop/thesis/data/generated_optimal_no_revisit.csv\")\n",
    "\n",
    "# 169 have best value in the top 3 and thus have to go through all the months\n",
    "#count"
   ]
  },
  {
   "cell_type": "code",
   "execution_count": 6,
   "id": "ab0e326a-01a5-4dec-9ff2-b399d2ab9e38",
   "metadata": {},
   "outputs": [],
   "source": [
    "# optimal as a function of most recent value?\n",
    "# - need to assume some cost of time...\n"
   ]
  },
  {
   "cell_type": "code",
   "execution_count": 7,
   "id": "3b9e2f5f-e57f-4f8b-9864-f5552f220ccd",
   "metadata": {},
   "outputs": [],
   "source": [
    "# optimal based on limited knowledge/set of variables?\n",
    "# as a function of best value so far (interaction with order)\n"
   ]
  },
  {
   "cell_type": "code",
   "execution_count": 8,
   "id": "cfbff751-d3de-4543-81de-e082e8c8fd85",
   "metadata": {},
   "outputs": [
    {
     "data": {
      "text/plain": [
       "'\\nThis section of the script generates data with no reference to the empirical data.\\n\\nAssumes:\\nNormal distribution of values\\nNo correlation between order/context-free value and context-specific value (random draws)\\n'"
      ]
     },
     "execution_count": 8,
     "metadata": {},
     "output_type": "execute_result"
    }
   ],
   "source": [
    "\"\"\"\n",
    "This section of the script generates data with no reference to the empirical data.\n",
    "\n",
    "Assumes:\n",
    "Normal distribution of values\n",
    "No correlation between order/context-free value and context-specific value (random draws)\n",
    "\"\"\""
   ]
  },
  {
   "cell_type": "code",
   "execution_count": 72,
   "id": "31caeffe-2ce6-44d1-b3bd-e64d1c9067df",
   "metadata": {},
   "outputs": [],
   "source": [
    "%autoreload\n",
    "\n",
    "from dmaker.environment import DecisionEnvironment, DecisionEnvironmentGrid\n",
    "from dmaker.decision_maker import DynamicDecisionMaker"
   ]
  },
  {
   "cell_type": "code",
   "execution_count": 180,
   "id": "434bd0c7-dc6a-4957-9e3c-8b2eb9575c0b",
   "metadata": {},
   "outputs": [],
   "source": [
    "env = DecisionEnvironment(N=12, num_trials=1000, sigma=100, mu=13, tau=8)\n",
    "dm = DynamicDecisionMaker(env=env, num_samples=1000, cost_eval=1)\n",
    "\n",
    "dm.experiment_data.to_csv(\"~/Desktop/thesis/data/generated_gaussian_optimal.csv\")"
   ]
  },
  {
   "cell_type": "code",
   "execution_count": 181,
   "id": "77cb3e0f-4051-415c-9ea2-6bf4fdd64894",
   "metadata": {},
   "outputs": [
    {
     "data": {
      "text/plain": [
       "array([[<AxesSubplot:title={'center':'order'}>]], dtype=object)"
      ]
     },
     "execution_count": 181,
     "metadata": {},
     "output_type": "execute_result"
    },
    {
     "data": {
      "image/png": "[encoded data removed]",
      "text/plain": [
       "<Figure size 432x288 with 1 Axes>"
      ]
     },
     "metadata": {
      "needs_background": "light"
     },
     "output_type": "display_data"
    }
   ],
   "source": [
    "dm.decide()\n",
    "dm.experiment_data.groupby(\"subject.id\").agg({\"order\": \"max\"}).hist()"
   ]
  },
  {
   "cell_type": "code",
   "execution_count": 191,
   "id": "57dff8bb-0581-4fbe-b1ad-467194a09332",
   "metadata": {},
   "outputs": [
    {
     "data": {
      "text/plain": [
       "87.82139300894835"
      ]
     },
     "execution_count": 191,
     "metadata": {},
     "output_type": "execute_result"
    }
   ],
   "source": [
    "sum((dm.experiment_data.value - dm.experiment_data.value.mean())*dm.experiment_data.value - dm.experiment_data.value.mean())/len(dm.experiment_data.value)"
   ]
  },
  {
   "cell_type": "code",
   "execution_count": 190,
   "id": "6b25f41e-515b-47a5-8f6b-aaa5f568ab14",
   "metadata": {},
   "outputs": [
    {
     "data": {
      "text/plain": [
       "<AxesSubplot:>"
      ]
     },
     "execution_count": 190,
     "metadata": {},
     "output_type": "execute_result"
    },
    {
     "data": {
      "image/png": "[encoded data removed]",
      "text/plain": [
       "<Figure size 432x288 with 1 Axes>"
      ]
     },
     "metadata": {
      "needs_background": "light"
     },
     "output_type": "display_data"
    }
   ],
   "source": [
    "dm.experiment_data.value.hist()"
   ]
  },
  {
   "cell_type": "code",
   "execution_count": 57,
   "id": "d3f99ee3-53d8-4d32-b6c4-ea67c47c0221",
   "metadata": {},
   "outputs": [
    {
     "data": {
      "text/plain": [
       "array([[<AxesSubplot:title={'center':'rank'}>]], dtype=object)"
      ]
     },
     "execution_count": 57,
     "metadata": {},
     "output_type": "execute_result"
    },
    {
     "data": {
      "image/png": "[encoded data removed]",
      "text/plain": [
       "<Figure size 432x288 with 1 Axes>"
      ]
     },
     "metadata": {
      "needs_background": "light"
     },
     "output_type": "display_data"
    }
   ],
   "source": [
    "raw_df.groupby(\"subject\").agg({\"rank\": \"max\"}).hist()"
   ]
  },
  {
   "cell_type": "code",
   "execution_count": 26,
   "id": "4ea4c40c-e7be-420e-8591-f5cbadfb66dc",
   "metadata": {},
   "outputs": [
    {
     "data": {
      "text/html": [
       "<div>\n",
       "<style scoped>\n",
       "    .dataframe tbody tr th:only-of-type {\n",
       "        vertical-align: middle;\n",
       "    }\n",
       "\n",
       "    .dataframe tbody tr th {\n",
       "        vertical-align: top;\n",
       "    }\n",
       "\n",
       "    .dataframe thead th {\n",
       "        text-align: right;\n",
       "    }\n",
       "</style>\n",
       "<table border=\"1\" class=\"dataframe\">\n",
       "  <thead>\n",
       "    <tr style=\"text-align: right;\">\n",
       "      <th></th>\n",
       "      <th>0</th>\n",
       "      <th>1</th>\n",
       "      <th>2</th>\n",
       "      <th>3</th>\n",
       "      <th>4</th>\n",
       "      <th>5</th>\n",
       "      <th>6</th>\n",
       "      <th>7</th>\n",
       "      <th>8</th>\n",
       "      <th>9</th>\n",
       "      <th>10</th>\n",
       "      <th>11</th>\n",
       "    </tr>\n",
       "  </thead>\n",
       "  <tbody>\n",
       "    <tr>\n",
       "      <th>0</th>\n",
       "      <td>18.329185</td>\n",
       "      <td>16.671441</td>\n",
       "      <td>15.657170</td>\n",
       "      <td>15.450026</td>\n",
       "      <td>14.733767</td>\n",
       "      <td>14.706472</td>\n",
       "      <td>13.328853</td>\n",
       "      <td>13.009686</td>\n",
       "      <td>12.830641</td>\n",
       "      <td>12.538242</td>\n",
       "      <td>12.530925</td>\n",
       "      <td>10.019482</td>\n",
       "    </tr>\n",
       "    <tr>\n",
       "      <th>1</th>\n",
       "      <td>18.949280</td>\n",
       "      <td>16.957041</td>\n",
       "      <td>16.542437</td>\n",
       "      <td>14.656613</td>\n",
       "      <td>11.321479</td>\n",
       "      <td>10.890305</td>\n",
       "      <td>10.828006</td>\n",
       "      <td>10.179534</td>\n",
       "      <td>8.495272</td>\n",
       "      <td>8.287880</td>\n",
       "      <td>7.539532</td>\n",
       "      <td>7.533147</td>\n",
       "    </tr>\n",
       "    <tr>\n",
       "      <th>2</th>\n",
       "      <td>18.077032</td>\n",
       "      <td>16.042489</td>\n",
       "      <td>14.897663</td>\n",
       "      <td>14.775747</td>\n",
       "      <td>14.489457</td>\n",
       "      <td>13.125856</td>\n",
       "      <td>12.110772</td>\n",
       "      <td>11.311346</td>\n",
       "      <td>11.009882</td>\n",
       "      <td>10.924860</td>\n",
       "      <td>8.296500</td>\n",
       "      <td>8.013954</td>\n",
       "    </tr>\n",
       "    <tr>\n",
       "      <th>3</th>\n",
       "      <td>18.424268</td>\n",
       "      <td>18.416545</td>\n",
       "      <td>14.792301</td>\n",
       "      <td>13.799215</td>\n",
       "      <td>12.957025</td>\n",
       "      <td>12.833106</td>\n",
       "      <td>12.516398</td>\n",
       "      <td>11.901139</td>\n",
       "      <td>11.003435</td>\n",
       "      <td>10.972779</td>\n",
       "      <td>10.327521</td>\n",
       "      <td>9.483568</td>\n",
       "    </tr>\n",
       "    <tr>\n",
       "      <th>4</th>\n",
       "      <td>16.084609</td>\n",
       "      <td>14.172796</td>\n",
       "      <td>13.857251</td>\n",
       "      <td>13.823182</td>\n",
       "      <td>13.299089</td>\n",
       "      <td>12.853207</td>\n",
       "      <td>12.401292</td>\n",
       "      <td>11.951811</td>\n",
       "      <td>11.321370</td>\n",
       "      <td>10.836013</td>\n",
       "      <td>10.803401</td>\n",
       "      <td>9.856299</td>\n",
       "    </tr>\n",
       "    <tr>\n",
       "      <th>...</th>\n",
       "      <td>...</td>\n",
       "      <td>...</td>\n",
       "      <td>...</td>\n",
       "      <td>...</td>\n",
       "      <td>...</td>\n",
       "      <td>...</td>\n",
       "      <td>...</td>\n",
       "      <td>...</td>\n",
       "      <td>...</td>\n",
       "      <td>...</td>\n",
       "      <td>...</td>\n",
       "      <td>...</td>\n",
       "    </tr>\n",
       "    <tr>\n",
       "      <th>95</th>\n",
       "      <td>16.711789</td>\n",
       "      <td>15.845767</td>\n",
       "      <td>15.617816</td>\n",
       "      <td>14.885631</td>\n",
       "      <td>14.387807</td>\n",
       "      <td>12.804029</td>\n",
       "      <td>12.059512</td>\n",
       "      <td>11.964870</td>\n",
       "      <td>11.469846</td>\n",
       "      <td>10.773286</td>\n",
       "      <td>10.241428</td>\n",
       "      <td>7.860915</td>\n",
       "    </tr>\n",
       "    <tr>\n",
       "      <th>96</th>\n",
       "      <td>19.502575</td>\n",
       "      <td>16.753145</td>\n",
       "      <td>16.587993</td>\n",
       "      <td>14.844583</td>\n",
       "      <td>14.769319</td>\n",
       "      <td>13.977048</td>\n",
       "      <td>13.746909</td>\n",
       "      <td>12.889400</td>\n",
       "      <td>12.842023</td>\n",
       "      <td>11.828972</td>\n",
       "      <td>10.949361</td>\n",
       "      <td>9.726086</td>\n",
       "    </tr>\n",
       "    <tr>\n",
       "      <th>97</th>\n",
       "      <td>15.428330</td>\n",
       "      <td>14.876885</td>\n",
       "      <td>14.325312</td>\n",
       "      <td>13.318201</td>\n",
       "      <td>13.254059</td>\n",
       "      <td>12.671253</td>\n",
       "      <td>12.558588</td>\n",
       "      <td>11.881652</td>\n",
       "      <td>11.800965</td>\n",
       "      <td>11.693420</td>\n",
       "      <td>8.093733</td>\n",
       "      <td>7.886840</td>\n",
       "    </tr>\n",
       "    <tr>\n",
       "      <th>98</th>\n",
       "      <td>18.752256</td>\n",
       "      <td>13.602249</td>\n",
       "      <td>13.097168</td>\n",
       "      <td>13.087974</td>\n",
       "      <td>12.710841</td>\n",
       "      <td>12.644623</td>\n",
       "      <td>12.151218</td>\n",
       "      <td>12.103033</td>\n",
       "      <td>11.435922</td>\n",
       "      <td>11.074207</td>\n",
       "      <td>10.881494</td>\n",
       "      <td>8.214076</td>\n",
       "    </tr>\n",
       "    <tr>\n",
       "      <th>99</th>\n",
       "      <td>17.084965</td>\n",
       "      <td>16.633474</td>\n",
       "      <td>13.977545</td>\n",
       "      <td>13.644989</td>\n",
       "      <td>13.602207</td>\n",
       "      <td>13.538591</td>\n",
       "      <td>13.417872</td>\n",
       "      <td>12.669783</td>\n",
       "      <td>12.587896</td>\n",
       "      <td>12.438102</td>\n",
       "      <td>10.906066</td>\n",
       "      <td>7.515328</td>\n",
       "    </tr>\n",
       "  </tbody>\n",
       "</table>\n",
       "<p>100 rows × 12 columns</p>\n",
       "</div>"
      ],
      "text/plain": [
       "           0          1          2          3          4          5   \\\n",
       "0   18.329185  16.671441  15.657170  15.450026  14.733767  14.706472   \n",
       "1   18.949280  16.957041  16.542437  14.656613  11.321479  10.890305   \n",
       "2   18.077032  16.042489  14.897663  14.775747  14.489457  13.125856   \n",
       "3   18.424268  18.416545  14.792301  13.799215  12.957025  12.833106   \n",
       "4   16.084609  14.172796  13.857251  13.823182  13.299089  12.853207   \n",
       "..        ...        ...        ...        ...        ...        ...   \n",
       "95  16.711789  15.845767  15.617816  14.885631  14.387807  12.804029   \n",
       "96  19.502575  16.753145  16.587993  14.844583  14.769319  13.977048   \n",
       "97  15.428330  14.876885  14.325312  13.318201  13.254059  12.671253   \n",
       "98  18.752256  13.602249  13.097168  13.087974  12.710841  12.644623   \n",
       "99  17.084965  16.633474  13.977545  13.644989  13.602207  13.538591   \n",
       "\n",
       "           6          7          8          9          10         11  \n",
       "0   13.328853  13.009686  12.830641  12.538242  12.530925  10.019482  \n",
       "1   10.828006  10.179534   8.495272   8.287880   7.539532   7.533147  \n",
       "2   12.110772  11.311346  11.009882  10.924860   8.296500   8.013954  \n",
       "3   12.516398  11.901139  11.003435  10.972779  10.327521   9.483568  \n",
       "4   12.401292  11.951811  11.321370  10.836013  10.803401   9.856299  \n",
       "..        ...        ...        ...        ...        ...        ...  \n",
       "95  12.059512  11.964870  11.469846  10.773286  10.241428   7.860915  \n",
       "96  13.746909  12.889400  12.842023  11.828972  10.949361   9.726086  \n",
       "97  12.558588  11.881652  11.800965  11.693420   8.093733   7.886840  \n",
       "98  12.151218  12.103033  11.435922  11.074207  10.881494   8.214076  \n",
       "99  13.417872  12.669783  12.587896  12.438102  10.906066   7.515328  \n",
       "\n",
       "[100 rows x 12 columns]"
      ]
     },
     "execution_count": 26,
     "metadata": {},
     "output_type": "execute_result"
    }
   ],
   "source": [
    "env.Vhat"
   ]
  },
  {
   "cell_type": "code",
   "execution_count": 177,
   "id": "476f59a9-ee48-41bd-9139-01ceb3dab91a",
   "metadata": {},
   "outputs": [
    {
     "data": {
      "text/plain": [
       "<AxesSubplot:xlabel='options'>"
      ]
     },
     "execution_count": 177,
     "metadata": {},
     "output_type": "execute_result"
    },
    {
     "data": {
      "image/png": "[encoded data removed]",
      "text/plain": [
       "<Figure size 432x288 with 1 Axes>"
      ]
     },
     "metadata": {
      "needs_background": "light"
     },
     "output_type": "display_data"
    }
   ],
   "source": [
    "## Sanity check data\n",
    "\n",
    "n = 100\n",
    "filename = f\"~/Desktop/thesis/data/generated_random_n={n}.csv\"\n",
    "df = pd.read_csv(filename)\n",
    "df.groupby(\"options\").agg({\"last\": \"mean\"}).plot()"
   ]
  },
  {
   "cell_type": "code",
   "execution_count": 178,
   "id": "726b11db-4509-43bc-b32c-80787aee9bf4",
   "metadata": {},
   "outputs": [
    {
     "data": {
      "text/plain": [
       "<AxesSubplot:xlabel='value_bin'>"
      ]
     },
     "execution_count": 178,
     "metadata": {},
     "output_type": "execute_result"
    },
    {
     "data": {
      "image/png": "[encoded data removed]",
      "text/plain": [
       "<Figure size 432x288 with 1 Axes>"
      ]
     },
     "metadata": {
      "needs_background": "light"
     },
     "output_type": "display_data"
    }
   ],
   "source": [
    "filename = f\"~/Desktop/thesis/data/generated_gaussian_optimal_n={n}.csv\"\n",
    "df = pd.read_csv(filename)\n",
    "df[\"value_bin\"] = pd.qcut(df[\"value\"], q=10)\n",
    "df.groupby(\"value_bin\").agg({\"last\": \"mean\"}).plot(rot=45)"
   ]
  },
  {
   "cell_type": "code",
   "execution_count": null,
   "id": "024f1586-e1dc-4dbb-8f54-fda933ea4335",
   "metadata": {},
   "outputs": [],
   "source": []
  }
 ],
 "metadata": {
  "kernelspec": {
   "display_name": "Python 3",
   "language": "python",
   "name": "python3"
  },
  "language_info": {
   "codemirror_mode": {
    "name": "ipython",
    "version": 3
   },
   "file_extension": ".py",
   "mimetype": "text/x-python",
   "name": "python",
   "nbconvert_exporter": "python",
   "pygments_lexer": "ipython3",
   "version": "3.9.4"
  }
 },
 "nbformat": 4,
 "nbformat_minor": 5
}

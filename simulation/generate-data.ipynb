{
 "cells": [
  {
   "cell_type": "code",
   "execution_count": null,
   "id": "9635f4c8-98c4-444f-8a08-61aa59e63fa6",
   "metadata": {},
   "outputs": [],
   "source": [
    "\"\"\"\n",
    "This notebook generates simulation data, using empirical data to adjust free parameters\n",
    "\"\"\""
   ]
  },
  {
   "cell_type": "code",
   "execution_count": null,
   "id": "58848669-ab33-412c-8277-ea994f1879c2",
   "metadata": {},
   "outputs": [],
   "source": [
    "%load_ext autoreload"
   ]
  },
  {
   "cell_type": "code",
   "execution_count": null,
   "id": "c6b433a0-216b-49b5-8c3f-de51892043e2",
   "metadata": {},
   "outputs": [],
   "source": [
    "%autoreload\n",
    "\n",
    "import pandas as pd\n",
    "import numpy as np\n",
    "\n",
    "from utils import generate_data"
   ]
  },
  {
   "cell_type": "code",
   "execution_count": null,
   "id": "30c442e8-43d1-4809-a24e-a4f458161ccf",
   "metadata": {},
   "outputs": [],
   "source": [
    "raw_df = pd.read_csv(\"~/Desktop/thesis/data/Adams_experiment_cleaned_filtered.csv\")\n",
    "raw_df[\"last\"] = ~raw_df[\"did_continue_eval\"]\n",
    "n = 10000 #len(raw_df[\"subject\"].unique())\n",
    "months = raw_df.groupby(\"word\").agg({\"s2_value\": \"mean\"}).reset_index()"
   ]
  },
  {
   "cell_type": "code",
   "execution_count": null,
   "id": "70df7b5f-9a86-463f-9c82-9504394da1ce",
   "metadata": {},
   "outputs": [],
   "source": [
    "# random based on real-life average stopping probabilities based on number evaluated so far\n",
    "\n",
    "empirical_stop_proba = raw_df.groupby(\"order\").agg({\"last\": \"mean\"})[\"last\"].values\n",
    "\n",
    "def stop_proba_random(_):\n",
    "    return empirical_stop_proba\n",
    "\n",
    "random = generate_data(n, months, stop_proba_random)\n",
    "random.head(16)\n",
    "\n",
    "random.to_csv(\"~/Desktop/thesis/data/generated_random.csv\")"
   ]
  },
  {
   "cell_type": "code",
   "execution_count": null,
   "id": "f7f1be16-52c2-42c3-b7f5-57d6c3261cdf",
   "metadata": {},
   "outputs": [],
   "source": [
    "# optimal with no revisiting (assumption you can't go back)\n",
    "# Explore until explore_index, then take next that is at least as good\n",
    "\n",
    "def stop_proba_no_revisiting(df):\n",
    "    explore_index = 3 # 1 + the zero-indexed last index for explore before exploit\n",
    "    highest = max(df[\"value\"].iloc[:explore_index])\n",
    "    stop_proba = [1 if i >= explore_index and x >= highest else 0 for i, x in enumerate(df[\"value\"])]\n",
    "    if sum(stop_proba) == 0:\n",
    "        stop_proba[-1] = 1\n",
    "    return stop_proba\n",
    "\n",
    "optimal_no_revisit = generate_data(n, months, stop_proba_no_revisiting)\n",
    "optimal_no_revisit.head(16)\n",
    "\n",
    "optimal_no_revisit.to_csv(\"~/Desktop/thesis/data/generated_optimal_no_revisit.csv\")\n",
    "\n",
    "# 169 have best value in the top 3 and thus have to go through all the months\n",
    "#count"
   ]
  },
  {
   "cell_type": "code",
   "execution_count": null,
   "id": "ab0e326a-01a5-4dec-9ff2-b399d2ab9e38",
   "metadata": {},
   "outputs": [],
   "source": [
    "# optimal as a function of most recent value?\n",
    "# - need to assume some cost of time...\n"
   ]
  },
  {
   "cell_type": "code",
   "execution_count": null,
   "id": "3b9e2f5f-e57f-4f8b-9864-f5552f220ccd",
   "metadata": {},
   "outputs": [],
   "source": [
    "# optimal based on limited knowledge/set of variables?\n",
    "# as a function of best value so far (interaction with order)\n"
   ]
  },
  {
   "cell_type": "code",
   "execution_count": null,
   "id": "cfbff751-d3de-4543-81de-e082e8c8fd85",
   "metadata": {},
   "outputs": [],
   "source": [
    "\"\"\"\n",
    "This section of the script generates data with no reference to the empirical data.\n",
    "\n",
    "Assumes:\n",
    "Normal distribution of values\n",
    "No correlation between order/context-free value and context-specific value (random draws)\n",
    "\"\"\""
   ]
  },
  {
   "cell_type": "code",
   "execution_count": null,
   "id": "31caeffe-2ce6-44d1-b3bd-e64d1c9067df",
   "metadata": {},
   "outputs": [],
   "source": [
    "%autoreload\n",
    "\n",
    "from dmaker.environment import DecisionEnvironment, DecisionEnvironmentGrid\n",
    "from dmaker.decision_maker import DynamicDecisionMaker"
   ]
  },
  {
   "cell_type": "code",
   "execution_count": null,
   "id": "e8823851-11af-45b9-80d5-f55278193337",
   "metadata": {},
   "outputs": [],
   "source": [
    "env = DecisionEnvironment(N=100, num_trials=100, sigma=1, mu=0, tau=1)\n",
    "dm = DynamicDecisionMaker(env=env, num_samples=1000, cost_eval=None)\n",
    "dm.decide()\n",
    "dm.experiment_data"
   ]
  },
  {
   "cell_type": "code",
   "execution_count": null,
   "id": "8c3b374e-8441-476d-b664-34f0e77bfe3e",
   "metadata": {},
   "outputs": [],
   "source": [
    "dm.experiment_data.to_csv(\"~/Desktop/thesis/data/generated_gaussian_optimal.csv\")"
   ]
  },
  {
   "cell_type": "code",
   "execution_count": null,
   "id": "434bd0c7-dc6a-4957-9e3c-8b2eb9575c0b",
   "metadata": {},
   "outputs": [],
   "source": [
    "env = DecisionEnvironment(N=12, num_trials=n, sigma=0, mu=13, tau=8)\n",
    "dm = DynamicDecisionMaker(env=env, num_samples=1000, cost_eval=0.2)"
   ]
  }
 ],
 "metadata": {
  "kernelspec": {
   "display_name": "Python 3",
   "language": "python",
   "name": "python3"
  },
  "language_info": {
   "codemirror_mode": {
    "name": "ipython",
    "version": 3
   },
   "file_extension": ".py",
   "mimetype": "text/x-python",
   "name": "python",
   "nbconvert_exporter": "python",
   "pygments_lexer": "ipython3",
   "version": "3.9.4"
  }
 },
 "nbformat": 4,
 "nbformat_minor": 5
}

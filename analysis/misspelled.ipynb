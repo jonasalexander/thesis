{
 "cells": [
  {
   "cell_type": "code",
   "execution_count": null,
   "id": "3783efa9-f52b-4aea-ac2e-1e4ad60f6fb3",
   "metadata": {},
   "outputs": [],
   "source": [
    "import pandas as pd\n",
    "import numpy as np"
   ]
  },
  {
   "cell_type": "code",
   "execution_count": null,
   "id": "8d03e060-b17f-42b8-b221-111f84d47ad8",
   "metadata": {},
   "outputs": [],
   "source": [
    "df = pd.read_csv(\"../data/thesis_full_clean.csv\")\n",
    "df"
   ]
  },
  {
   "cell_type": "code",
   "execution_count": null,
   "id": "9c7637d6-1100-41d2-9309-2408211ba516",
   "metadata": {},
   "outputs": [],
   "source": [
    "words_a = set(\n",
    "    [\n",
    "        \"wizard\",\n",
    "        \"anxiety\",\n",
    "        \"javelin\",\n",
    "        \"autumn\",\n",
    "        \"firefly\",\n",
    "        \"baptism\",\n",
    "        \"canvas\",\n",
    "        \"silver\",\n",
    "        \"injury\",\n",
    "        \"school\",\n",
    "        \"coffee\",\n",
    "        \"kidney\",\n",
    "        \"cabinet\",\n",
    "    ]\n",
    ")\n",
    "words_z = set(\n",
    "    [\n",
    "        \"dragon\",\n",
    "        \"jacket\",\n",
    "        \"energy\",\n",
    "        \"magnet\",\n",
    "        \"chimney\",\n",
    "        \"bakery\",\n",
    "        \"almond\",\n",
    "        \"pumpkin\",\n",
    "        \"liquid\",\n",
    "        \"casino\",\n",
    "        \"church\",\n",
    "        \"powder\",\n",
    "        \"royalty\",\n",
    "    ]\n",
    ")"
   ]
  },
  {
   "cell_type": "code",
   "execution_count": null,
   "id": "b36aec88-bdfc-44bf-996e-024d32bf9a8a",
   "metadata": {},
   "outputs": [],
   "source": [
    "df.loc[df[\"cs1\"]==\"anixety\", [\"memory\"+str(i+1) for i in range(13)]]"
   ]
  },
  {
   "cell_type": "code",
   "execution_count": null,
   "id": "dbb91a80-f13c-4dbb-b5ec-0b1b6fb4bb55",
   "metadata": {},
   "outputs": [],
   "source": [
    "value_vars = [\"memory\"+str(i+1) for i in range(13)]+[\"cs\"+str(i+1) for i in range(13)]\n",
    "df_long = df.melt(id_vars=[\"rid\", \"condition_a\"], value_vars=value_vars, value_name=\"word\").dropna()\n",
    "df_long[\"words\"] = df_long[\"condition_a\"].apply(lambda x: words_a if x else words_z)\n",
    "df_long[\"word\"] = df_long[\"word\"].apply(lambda x: x.lower())\n",
    "df_long[\"in_set\"] = df_long.apply(lambda x: x[\"word\"] in x[\"words\"], axis=1)\n",
    "df_long = df_long[df_long[\"word\"] != \"pumpkin\"]\n",
    "misspelled = df_long[~df_long[\"in_set\"]]\n",
    "misspelled = misspelled.merge(df[value_vars+[\"rid\", \"word_a\", \"word_z\"]], on=\"rid\")\n",
    "\n",
    "pd.set_option('display.max_columns', 500)\n",
    "\n",
    "batch = 17\n",
    "misspelled.loc[batch*5:(batch+1)*5, [\"rid\", \"variable\", \"word\", \"word_a\", \"word_z\"]+value_vars]"
   ]
  },
  {
   "cell_type": "code",
   "execution_count": null,
   "id": "d0ac3e28-7db8-48b7-81bb-81f7f25db6fc",
   "metadata": {},
   "outputs": [],
   "source": [
    "fixed_words = [\n",
    "    (\"R_2UVkjpw8nqNp8Fr\", \"memory1\", \"MAGNET\"),\n",
    "    (\"R_2VmOr6DZAIP0iGb\", \"memory1\", \"coffee\"),\n",
    "    (\"R_2VmOr6DZAIP0iGb\", \"memory6\", \"autumn\"),\n",
    "    (\"R_2VmOr6DZAIP0iGb\", \"cs9\", \"firefly\"),\n",
    "    (\"R_1jNRzCcvYInlI6C\", \"memory1\", \"pumpkin\"),\n",
    "    (\"R_1jNRzCcvYInlI6C\", \"memory7\", \"chimney\"),\n",
    "    (\"R_3pi2iY83AzmJ4oX\", \"memory1\", \"pumpkin\"),\n",
    "    (\"R_3pi2iY83AzmJ4oX\", \"memory3\", \"royalty\"),\n",
    "    (\"R_3pi2iY83AzmJ4oX\", \"memory4\", \"energy\"),\n",
    "    (\"R_2uy1CEMczz3ObiL\", \"memory2\", \"canvas\"),\n",
    "    (\"R_3RrtwB187v71qz1\", \"memory7\", \"cabinet\"),\n",
    "    (\"R_1DINrjhbjLrwJTc\", \"memory6\", \"powder\"),\n",
    "    (\"R_xyK3e6wWFB9NoCR\", \"memory6\", \"powder\"),\n",
    "    (\"R_6tED4N15yxqiuoV\", \"memory7\", \"jacket\"),\n",
    "    (\"R_beLjzWv6qkcnTTX\", \"memory8\", \"casino\"),\n",
    "    (\"R_24w4JqAK6TkMmV8\", \"memory8\", \"liquid\"),\n",
    "    (\"R_2R7Udgsy3HLIwE2\", \"cs1\", \"anxiety\"),\n",
    "    (\"R_2czP4efH7RPc0oZ\", \"cs2\", \"chimney\"),\n",
    "    (\"R_2D0lBznW12gmlsG\", \"cs4\", \"baptism\"),\n",
    "    (\"R_9HaQxaDLsy8nJE5\", \"cs5\", \"powder\"),\n",
    "    (\"R_3PcoY7M2FpV4kZ0\", \"cs5\", \"baptism\"),\n",
    "    (\"R_3LZjdb5uyZohCYG\", \"cs5\", \"powder\"),\n",
    "    (\"R_BDMrgaUZbEH1QrL\", \"cs9\", \"firefly\"),\n",
    "    (\"R_3DcJu0qDWE0u2c1\", \"cs10\", \"anxiety\"),\n",
    "    (\"R_3DcJu0qDWE0u2c1\", \"cs10\", \"anxiety\"),\n",
    "]"
   ]
  },
  {
   "cell_type": "code",
   "execution_count": null,
   "id": "febd44b5-2e11-4e2b-9701-7d2499c747ee",
   "metadata": {},
   "outputs": [],
   "source": [
    "for rid, col, word in fixed_words:\n",
    "    df.loc[df[\"rid\"]==rid, col] = word"
   ]
  },
  {
   "cell_type": "code",
   "execution_count": null,
   "id": "349b388f-168a-4bcf-825e-6c4b5038f431",
   "metadata": {},
   "outputs": [],
   "source": [
    "df.to_csv(\"../data/thesis_full_clean_typos_fixed.csv\")"
   ]
  },
  {
   "cell_type": "code",
   "execution_count": null,
   "id": "54889996-9216-48ff-b15d-858b884ec3de",
   "metadata": {},
   "outputs": [],
   "source": []
  }
 ],
 "metadata": {
  "kernelspec": {
   "display_name": "Python 3",
   "language": "python",
   "name": "python3"
  },
  "language_info": {
   "codemirror_mode": {
    "name": "ipython",
    "version": 3
   },
   "file_extension": ".py",
   "mimetype": "text/x-python",
   "name": "python",
   "nbconvert_exporter": "python",
   "pygments_lexer": "ipython3",
   "version": "3.9.4"
  }
 },
 "nbformat": 4,
 "nbformat_minor": 5
}

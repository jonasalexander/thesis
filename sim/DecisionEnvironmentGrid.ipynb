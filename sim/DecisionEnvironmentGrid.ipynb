{
 "cells": [
  {
   "cell_type": "code",
   "execution_count": null,
   "metadata": {},
   "outputs": [],
   "source": [
    "%load_ext autoreload"
   ]
  },
  {
   "cell_type": "code",
   "execution_count": null,
   "metadata": {},
   "outputs": [],
   "source": [
    "%autoreload\n",
    "\n",
    "import numpy as np\n",
    "\n",
    "from environment import DecisionEnvironmentGrid\n",
    "from decision_maker import DecisionMaker"
   ]
  },
  {
   "cell_type": "code",
   "execution_count": null,
   "metadata": {},
   "outputs": [],
   "source": [
    "# as a function of sigma\n",
    "env_grid = DecisionEnvironmentGrid({\"sigma\": [0.1, 1, 5, 10]})\n",
    "env_grid.plot_complex(\"Utility for different agents and varying sigma\")\n",
    "env_grid.plot_complex(\"Utility for different agents and varying sigma\", normalize=True)"
   ]
  },
  {
   "cell_type": "code",
   "execution_count": null,
   "metadata": {},
   "outputs": [],
   "source": [
    "# as a function of tau\n",
    "env_grid = DecisionEnvironmentGrid({\"tau\": [0.1, 1, 5, 10]})\n",
    "env_grid.plot_complex(\"Utility for different agents and varying tau\")\n",
    "env_grid.plot_complex(\"Utility for different agents and varying tau\", normalize=True)"
   ]
  },
  {
   "cell_type": "code",
   "execution_count": null,
   "metadata": {},
   "outputs": [],
   "source": [
    "# as a function of N - remember to adjust k_values too\n",
    "env_grid = DecisionEnvironmentGrid({\"N\": [6, 12, 24, 48]})\n",
    "env_grid.plot_complex(\"Utility for different agents and varying N\")\n",
    "env_grid.plot_complex(\"Utility for different agents and varying N\", normalize=True)"
   ]
  },
  {
   "cell_type": "code",
   "execution_count": null,
   "metadata": {},
   "outputs": [],
   "source": []
  }
 ],
 "metadata": {
  "kernelspec": {
   "display_name": "Python 3",
   "language": "python",
   "name": "python3"
  },
  "language_info": {
   "codemirror_mode": {
    "name": "ipython",
    "version": 3
   },
   "file_extension": ".py",
   "mimetype": "text/x-python",
   "name": "python",
   "nbconvert_exporter": "python",
   "pygments_lexer": "ipython3",
   "version": "3.7.6"
  }
 },
 "nbformat": 4,
 "nbformat_minor": 4
}

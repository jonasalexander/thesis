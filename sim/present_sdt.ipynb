{
 "cells": [
  {
   "cell_type": "code",
   "execution_count": null,
   "metadata": {},
   "outputs": [],
   "source": [
    "def sanity_check(V=1, Vp=0, N=20, sigma=1, plot=True, get_gain=False):\n",
    "\n",
    "    Vh_1_list = np.random.normal(V, sigma, N)\n",
    "    Vh_2_list = np.random.normal(Vp, sigma, N)\n",
    "\n",
    "    probs = np.ones(N) # probability that Vh_1 is drawn from V (as opposed to Vp)\n",
    "    gain = np.ones(N)\n",
    "    switch = np.zeros(N)\n",
    "\n",
    "    for i in range(N):\n",
    "\n",
    "        Vh_1 = Vh_1_list[i]\n",
    "        Vh_2 = Vh_2_list[i]\n",
    "\n",
    "        if Vh_1 < Vh_2:\n",
    "            switch[i] = 1\n",
    "            Vh_1, Vh_2 = Vh_2, Vh_1\n",
    "\n",
    "        p1 = np.exp(-0.5 * (((Vh_1 - V) / sigma) ** 2 + ((Vh_2 - Vp) / sigma) ** 2))\n",
    "        p2 = np.exp(-0.5 * (((Vh_1 - Vp) / sigma) ** 2 + ((Vh_2 - V) / sigma) ** 2))\n",
    "\n",
    "        denom = p1 + p2\n",
    "\n",
    "        probs[i] = p1 / denom\n",
    "\n",
    "        gain[i] = V - (V*p1 + Vp * p2) / denom\n",
    "    \n",
    "    if get_gain:\n",
    "        return gain\n",
    "    elif plot:\n",
    "        fig, ax1 = plt.subplots()\n",
    "        fig.suptitle(f\"V={V}, V'={Vp}, sigma={sigma}\")\n",
    "\n",
    "        ax1.plot(gain, label=\"expected gain from eval\", color=\"r\")\n",
    "        ax1.set_ylabel(\"Expected gain from eval\")\n",
    "        \n",
    "        diffs = abs(Vh_1_list-Vh_2_list)\n",
    "        ax2 = ax1.twinx()\n",
    "        ax2.plot(diffs, label=\"diff between vhats\", color=\"b\")\n",
    "        ax2.set_ylabel(\"Difference between vhats\")\n",
    "        fig.legend()\n",
    "        plt.show()"
   ]
  },
  {
   "cell_type": "code",
   "execution_count": null,
   "metadata": {},
   "outputs": [],
   "source": [
    "sanity_check()"
   ]
  },
  {
   "cell_type": "code",
   "execution_count": null,
   "metadata": {},
   "outputs": [],
   "source": [
    "sanity_check(V=1.1, Vp=1)"
   ]
  },
  {
   "cell_type": "code",
   "execution_count": null,
   "metadata": {},
   "outputs": [],
   "source": [
    "sanity_check(V=11, Vp=10)"
   ]
  },
  {
   "cell_type": "code",
   "execution_count": null,
   "metadata": {},
   "outputs": [],
   "source": [
    "sanity_check(sigma=0.5, N=10)"
   ]
  },
  {
   "cell_type": "code",
   "execution_count": null,
   "metadata": {},
   "outputs": [],
   "source": [
    "# average gain as a fn of sigma\n",
    "num = 20\n",
    "sigmas = np.linspace(0.1, 10, num=num)\n",
    "gains = np.zeros(num)\n",
    "for i, s in enumerate(sigmas):\n",
    "    num_samples = 1000\n",
    "    gains[i] = sum(sanity_check(sigma=s, get_gain=True, N=num_samples))/num_samples\n",
    "\n",
    "plt.plot(sigmas, gains)\n",
    "plt.xlabel(\"Sigma\")\n",
    "plt.ylabel(\"Average gain\")\n",
    "plt.title(\"Average gain as a function of sigma for V=1, V'=0\")\n",
    "plt.show()"
   ]
  },
  {
   "cell_type": "code",
   "execution_count": null,
   "metadata": {},
   "outputs": [],
   "source": [
    "# average gain as a fn of V, fixing Vp at 0\n",
    "num = 50\n",
    "Vs = np.linspace(0.1, 10, num=num)\n",
    "gains = np.zeros(num)\n",
    "for i, v in enumerate(Vs):\n",
    "    num_samples = 10000\n",
    "    gains[i] = sum(sanity_check(V=v, get_gain=True, N=num_samples))/num_samples\n",
    "\n",
    "plt.plot(Vs, gains)\n",
    "plt.xlabel(\"Sigma\")\n",
    "plt.ylabel(\"Average gain\")\n",
    "plt.title(\"Average gain as a function of sigma for sigma=1, V'=0\")\n",
    "plt.show()"
   ]
  },
  {
   "cell_type": "code",
   "execution_count": null,
   "metadata": {},
   "outputs": [],
   "source": [
    "# average gain as a fn of V, fixing Vp at 0\n",
    "num = 50\n",
    "Vs = np.linspace(0.1, 10, num=num)\n",
    "gains = np.zeros(num)\n",
    "for i, v in enumerate(Vs):\n",
    "    num_samples = 10000\n",
    "    gains[i] = sum(sanity_check(V=v, sigma=2, get_gain=True, N=num_samples))/num_samples\n",
    "\n",
    "plt.plot(Vs, gains)\n",
    "plt.xlabel(\"V\")\n",
    "plt.ylabel(\"Average gain\")\n",
    "plt.title(\"Average gain as a function of V for sigma=2, V'=0\")\n",
    "plt.show()"
   ]
  },
  {
   "cell_type": "code",
   "execution_count": null,
   "metadata": {},
   "outputs": [],
   "source": [
    "# average gain as a fn of V, fixing Vp at 0\n",
    "num = 50\n",
    "Vs = np.linspace(0.1, 10, num=num)\n",
    "gains = np.zeros(num)\n",
    "for i, v in enumerate(Vs):\n",
    "    num_samples = 10000\n",
    "    gains[i] = sum(sanity_check(V=v, sigma=0.2, get_gain=True, N=num_samples))/num_samples\n",
    "\n",
    "plt.plot(Vs, gains)\n",
    "plt.xlabel(\"V\")\n",
    "plt.ylabel(\"Average gain\")\n",
    "plt.title(\"Average gain as a function of V for sigma=0.2, V'=0\")\n",
    "plt.show()"
   ]
  },
  {
   "cell_type": "code",
   "execution_count": null,
   "metadata": {},
   "outputs": [],
   "source": []
  },
  {
   "cell_type": "code",
   "execution_count": null,
   "metadata": {},
   "outputs": [],
   "source": []
  },
  {
   "cell_type": "code",
   "execution_count": null,
   "metadata": {},
   "outputs": [],
   "source": []
  },
  {
   "cell_type": "code",
   "execution_count": null,
   "metadata": {},
   "outputs": [],
   "source": []
  }
 ],
 "metadata": {
  "kernelspec": {
   "display_name": "Python 3",
   "language": "python",
   "name": "python3"
  },
  "language_info": {
   "codemirror_mode": {
    "name": "ipython",
    "version": 3
   },
   "file_extension": ".py",
   "mimetype": "text/x-python",
   "name": "python",
   "nbconvert_exporter": "python",
   "pygments_lexer": "ipython3",
   "version": "3.7.6"
  }
 },
 "nbformat": 4,
 "nbformat_minor": 4
}

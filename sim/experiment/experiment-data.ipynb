{
 "cells": [
  {
   "cell_type": "code",
   "execution_count": null,
   "metadata": {},
   "outputs": [],
   "source": [
    "import pandas as pd\n",
    "import numpy as np\n",
    "import matplotlib.pyplot as plt\n",
    "import seaborn as sns"
   ]
  },
  {
   "cell_type": "code",
   "execution_count": null,
   "metadata": {},
   "outputs": [],
   "source": [
    "df = pd.read_csv(\"~/Desktop/thesis/sim/experiment/data/Adams_experiment.csv\")"
   ]
  },
  {
   "cell_type": "code",
   "execution_count": null,
   "metadata": {},
   "outputs": [],
   "source": [
    "# Raw\n",
    "\n",
    "df.head(24)"
   ]
  },
  {
   "cell_type": "code",
   "execution_count": null,
   "metadata": {},
   "outputs": [],
   "source": [
    "## FILTERING\n",
    "\n",
    "# (a) what condition the participant was in (cond = 1 is gains)\n",
    "# filter on cond=1 only\n",
    "data = df.loc[df[\"cond\"]==1, [\"subject\", \"word\", \"s2_value\", \"in.cs\", \"order\"]]"
   ]
  },
  {
   "cell_type": "code",
   "execution_count": null,
   "metadata": {},
   "outputs": [],
   "source": [
    "## ENRICHING"
   ]
  },
  {
   "cell_type": "code",
   "execution_count": null,
   "metadata": {},
   "outputs": [],
   "source": [
    "# create num_eval column\n",
    "num_eval = data[data[\"in.cs\"] == True].groupby(\"subject\").count()[\"word\"].rename(\"num_eval\")\n",
    "\n",
    "# could also create a num_eval column using the max of order\n",
    "num_eval_using_max_order = data.groupby(\"subject\").max()[\"order\"]\n",
    "print(sum(num_eval == num_eval_using_max_order))\n",
    "\n",
    "num_eval = num_eval[num_eval == num_eval_using_max_order]\n",
    "\n",
    "# where these are different, exclude that data\n",
    "data = data.merge(num_eval, right_on=\"subject\", left_on=\"subject\")\n"
   ]
  },
  {
   "cell_type": "code",
   "execution_count": null,
   "metadata": {},
   "outputs": [],
   "source": [
    "# drop non-evaluated entries\n",
    "data = data[data[\"in.cs\"]]"
   ]
  },
  {
   "cell_type": "code",
   "execution_count": null,
   "metadata": {},
   "outputs": [],
   "source": [
    "# create best option evaluated so far column\n",
    "data[\"highest_value_so_far\"] = data.sort_values([\"subject\", \"order\"]).groupby(\"subject\")[\"s2_value\"].cummax()"
   ]
  },
  {
   "cell_type": "code",
   "execution_count": null,
   "metadata": {},
   "outputs": [],
   "source": [
    "# Create column whether that was their last one\n",
    "data[\"did_continue_eval\"] = ~(data[\"order\"] == data[\"num_eval\"])"
   ]
  },
  {
   "cell_type": "code",
   "execution_count": null,
   "metadata": {},
   "outputs": [],
   "source": [
    "# Exclude subjects that only went through the months\n",
    "# Don't run this if you want to look at all subjects\n",
    "\"\"\"\n",
    "annual_order = [\"JANUARY\", \"FEBRUARY\", \"MARCH\", \"APRIL\", \"MAY\", \"JUNE\", \"JULY\", \"AUGUST\", \"SEPTEMBER\", \"OCTOBER\", \"NOVEMBER\", \"DECEMBER\"]\n",
    "annual_order_df = pd.DataFrame.from_dict({\"word\": annual_order})\n",
    "annual_order_df[\"annual_order\"] = annual_order_df.index + 1\n",
    "\n",
    "with_order = data.merge(annual_order_df)[[\"subject\", \"word\", \"order\", \"annual_order\"]]\n",
    "with_order[\"is_in_order\"] = with_order[\"order\"] == with_order[\"annual_order\"]\n",
    "subjects_stuck_to_annual_order = with_order.groupby(\"subject\")[[\"is_in_order\"]].all().reset_index()\n",
    "data = data.merge(subjects_stuck_to_annual_order, how=\"left\")\n",
    "data = data[~data[\"is_in_order\"]].sort_values([\"subject\", \"order\"])\n",
    "\"\"\""
   ]
  },
  {
   "cell_type": "code",
   "execution_count": null,
   "metadata": {},
   "outputs": [],
   "source": [
    "# Add column indicating the rank of the word considered (based on its s2_value)\n",
    "\n",
    "word_values = data.groupby(\"word\")[\"s2_value\"].mean()\n",
    "word_rank = word_values.sort_values(ascending=False).reset_index().drop(columns=\"s2_value\")\n",
    "word_rank[\"rank\"] = word_rank.index + 1\n",
    "data = data.merge(word_rank).rename(columns={\"index\": \"rank\"}).sort_values(\"subject\")"
   ]
  },
  {
   "cell_type": "code",
   "execution_count": null,
   "metadata": {},
   "outputs": [],
   "source": [
    "# Exclude order numbers above 12\n",
    "data = data[data[\"order\"] <= 12]"
   ]
  },
  {
   "cell_type": "code",
   "execution_count": null,
   "metadata": {},
   "outputs": [],
   "source": [
    "# Filtered, enriched\n",
    "\n",
    "data.head(24)"
   ]
  },
  {
   "cell_type": "code",
   "execution_count": null,
   "metadata": {},
   "outputs": [],
   "source": [
    "# Summary stats\n",
    "data.groupby(\"did_continue_eval\")[\"highest_value_so_far\"].mean()"
   ]
  },
  {
   "cell_type": "code",
   "execution_count": null,
   "metadata": {},
   "outputs": [],
   "source": [
    "# How many months have which value?\n",
    "# This is the distribution of options (all of them)\n",
    "# across values (ex: 2 options with value < 5)\n",
    "\n",
    "word_values = data.groupby(\"word\")[\"s2_value\"].mean()\n",
    "minimum = min(word_values)\n",
    "maximim = max(word_values)\n",
    "bins = np.linspace(minimum, maximim, 10)\n",
    "plt.hist(data.groupby(\"word\")[\"s2_value\"].mean(), bins)\n",
    "plt.title(\"Distribution across 12 months\")\n",
    "plt.show()"
   ]
  },
  {
   "cell_type": "code",
   "execution_count": null,
   "metadata": {},
   "outputs": [],
   "source": [
    "# For a specific slice in evaluation (fixed number\n",
    "# of options already considered), how does the value\n",
    "# of the next option compare for those who\n",
    "# stopped after evaluating this option vs those\n",
    "# who continued?\n",
    "\n",
    "print(f\"total number of subjects {len(data.groupby('subject').mean().index)}\")\n",
    "\n",
    "for order_filter in range(1, 6):\n",
    "    filtered_data = data[data[\"order\"]==order_filter]\n",
    "\n",
    "    word_values = data.groupby(\"word\")[\"s2_value\"].mean()\n",
    "    minimum = min(word_values)\n",
    "    maximim = max(word_values)\n",
    "\n",
    "    non_last_eval = filtered_data.loc[filtered_data[\"did_continue_eval\"], \"s2_value\"]\n",
    "    last_eval = filtered_data.loc[~filtered_data[\"did_continue_eval\"], \"s2_value\"]\n",
    "\n",
    "    bins = np.linspace(minimum, maximim, 13)\n",
    "    \n",
    "    print(f\"Number of data points: {len(filtered_data.index)}\")\n",
    "\n",
    "    plt.hist(non_last_eval, bins, alpha=0.5, label='continued evaluating', weights=np.ones(len(non_last_eval)) / len(non_last_eval))\n",
    "    plt.hist(last_eval, bins, alpha=0.5, label='stopped', weights=np.ones(len(last_eval)) / len(last_eval))\n",
    "    plt.legend(loc='upper left')\n",
    "    plt.xlabel(\"Value of the action\")\n",
    "    plt.ylabel(\"Percentage of situations\")\n",
    "    plt.title(f\"At evaluation number {order_filter}\")\n",
    "    plt.show()"
   ]
  },
  {
   "cell_type": "code",
   "execution_count": null,
   "metadata": {},
   "outputs": [],
   "source": [
    "# Now do the same thing for rank\n",
    "\n",
    "for order_filter in range(1, 6):\n",
    "    filtered_data = data[data[\"order\"]==order_filter]\n",
    "    non_last_eval = filtered_data.loc[filtered_data[\"did_continue_eval\"], \"rank\"]\n",
    "    last_eval = filtered_data.loc[~filtered_data[\"did_continue_eval\"], \"rank\"]\n",
    "\n",
    "    word_rank = data.groupby(\"word\")[\"rank\"].mean()\n",
    "    minimum = min(word_rank)\n",
    "    maximim = max(word_rank)\n",
    "    bins = np.linspace(1, len(word_rank)+1, len(word_rank)+1)\n",
    "\n",
    "    print(f\"Number of data points: {len(filtered_data.index)}\")\n",
    "\n",
    "    plt.hist(non_last_eval, bins, alpha=0.5, label='continued evaluating', weights=np.ones(len(non_last_eval)) / len(non_last_eval))\n",
    "    plt.hist(last_eval, bins, alpha=0.5, label='stopped', weights=np.ones(len(last_eval)) / len(last_eval))\n",
    "    plt.legend(loc='upper left')\n",
    "    plt.xlabel(\"Rank of option considered\")\n",
    "    plt.ylabel(\"Percentage of situations\")\n",
    "    plt.title(f\"At evaluation number {order_filter}\")\n",
    "    plt.show()"
   ]
  },
  {
   "cell_type": "code",
   "execution_count": null,
   "metadata": {},
   "outputs": [],
   "source": [
    "# Across all options evaluated in different orders,\n",
    "# what was the distribution? sorted by rank\n",
    "\n",
    "rank_and_count = data.groupby(\"rank\").count()[[\"word\"]].rename(columns={\"word\": \"count\"}).reset_index()\n",
    "word_and_rank = data.groupby(\"word\").mean()[[\"rank\"]].reset_index()\n",
    "to_plot = rank_and_count.merge(word_and_rank).sort_values(\"rank\")\n",
    "\n",
    "fig = plt.figure(figsize=(12, 6))\n",
    "plt.bar(to_plot[\"word\"], height=to_plot[\"count\"])\n",
    "plt.title(\"Frequency of the rank of different options evaluated\")\n",
    "plt.xlabel(\"Rank\")\n",
    "plt.ylabel(\"Frequency\")\n",
    "plt.show()"
   ]
  },
  {
   "cell_type": "code",
   "execution_count": null,
   "metadata": {},
   "outputs": [],
   "source": [
    "# For a specific number of options already evaluated,\n",
    "# what was the distribution? sorted by rank\n",
    "\n",
    "for order in range(1, 12):\n",
    "\n",
    "    rank_and_count = data[data[\"order\"]==order].groupby(\"rank\").count()[[\"word\"]].rename(columns={\"word\": \"count\"}).reset_index()\n",
    "    word_and_rank = data[data[\"order\"]==order].groupby(\"word\").mean()[[\"rank\"]].reset_index()\n",
    "    to_plot = rank_and_count.merge(word_and_rank).sort_values(\"rank\")\n",
    "\n",
    "    fig = plt.figure(figsize=(12, 6))\n",
    "    plt.bar(to_plot[\"word\"], height=to_plot[\"count\"])\n",
    "    plt.title(f\"Frequency of the rank of different options evaluated for the {order} option evaluated\")\n",
    "    plt.xlabel(\"Rank\")\n",
    "    plt.ylabel(\"Frequency\")\n",
    "    plt.show()"
   ]
  },
  {
   "cell_type": "code",
   "execution_count": null,
   "metadata": {},
   "outputs": [],
   "source": [
    "# Looks like we're still getting a lot of people going through the months,\n",
    "# I thought we had sorted those out?\n",
    "\n",
    "february_second_subjects = data.loc[(data[\"order\"]==2)&(data[\"word\"]==\"FEBRUARY\"), [\"subject\"]]\n",
    "february_second_subjects.merge(data).sort_values([\"subject\", \"order\"]).head(24)\n",
    "\n",
    "# We did sort those out, but many who didn't perfectly stick to the order still followed it\n",
    "# partly, see below"
   ]
  },
  {
   "cell_type": "code",
   "execution_count": null,
   "metadata": {},
   "outputs": [],
   "source": [
    "# Each line is the average for all subjects with the same total number\n",
    "# of options evaluated. The y axis specifies the average s2 values for\n",
    "# each number of options already evaluated. The lines are each one\n",
    "# longer than the next because those with 6 options evaluated have\n",
    "# one more datapoint than those that only evaluated 5 in total.\n",
    "\n",
    "to_plot = data.groupby([\"order\", \"num_eval\"]).agg({\"s2_value\": \"mean\"}).reset_index()\n",
    "to_plot = to_plot[(to_plot[\"order\"] != np.NaN)]\n",
    "sns.relplot(data=to_plot, x=\"order\", y=\"s2_value\", kind=\"line\", hue=\"num_eval\", height=8, aspect=11/8)\n",
    "print(\"Value of options over the course of deliberation, grouped by number of options evaluated\")\n",
    "\n",
    "# It looks like we do have quite a considerable bump at the end of each line,\n",
    "# which is strong support for the dynamic theory, that the overall downsloping\n",
    "# (flat in this case) trend is superseded by the fact that subjects stopped\n",
    "# being due to having found something good.\n",
    "\n",
    "# I attribute the almost across the board bump down for the second option evaluated\n",
    "# to February being frequently evaluated second (see previous charts)"
   ]
  },
  {
   "cell_type": "code",
   "execution_count": null,
   "metadata": {},
   "outputs": [],
   "source": [
    "# Now do the same thing for rank\n",
    "\n",
    "to_plot = data.groupby([\"order\", \"num_eval\"]).agg({\"rank\": \"mean\"}).reset_index()\n",
    "sns.relplot(data=to_plot, x=\"order\", y=\"rank\", kind=\"line\", hue=\"num_eval\", height=8, aspect=11/8)\n",
    "print(\"Rank of options over the course of deliberation, grouped by number of options evaluated\")"
   ]
  },
  {
   "cell_type": "code",
   "execution_count": null,
   "metadata": {},
   "outputs": [],
   "source": [
    "# Let's quantify how much the subjects gain in value in the last option\n",
    "# they evaluate\n",
    "\n",
    "rank_or_s2value = \"s2_value\"\n",
    "\n",
    "to_plot = data.groupby([\"order\", \"num_eval\"]).agg({rank_or_s2value: \"mean\"}).reset_index()\n",
    "final_option = to_plot[to_plot[\"order\"]==to_plot[\"num_eval\"]].rename(columns={rank_or_s2value: \"final\"}).drop(columns=[\"order\"])\n",
    "to_plot_with_final = to_plot.merge(final_option, how=\"left\")\n",
    "second_to_last_option = to_plot_with_final[to_plot_with_final[\"order\"]==to_plot_with_final[\"num_eval\"]-1]\n",
    "\n",
    "percentage_increase = second_to_last_option.assign(percentage_increase=((second_to_last_option[\"final\"]/second_to_last_option[rank_or_s2value])-1)*100)\n",
    "plt.bar(x=percentage_increase[\"num_eval\"], height=percentage_increase[\"percentage_increase\"])\n",
    "plt.xlabel(\"Total number of options evaluated\")\n",
    "plt.ylabel(f\"Percentage difference in {rank_or_s2value}\")\n",
    "plt.show()\n",
    "\n",
    "difference = second_to_last_option.assign(percentage_increase=second_to_last_option[\"final\"]-second_to_last_option[rank_or_s2value])\n",
    "plt.bar(x=difference[\"num_eval\"], height=difference[\"percentage_increase\"])\n",
    "plt.xlabel(\"Total number of options evaluated\")\n",
    "plt.ylabel(f\"Absolute difference in {rank_or_s2value}\")\n",
    "plt.show()"
   ]
  },
  {
   "cell_type": "code",
   "execution_count": null,
   "metadata": {},
   "outputs": [],
   "source": [
    "# now do the same thing for rank\n",
    "\n",
    "rank_or_s2value = \"rank\"\n",
    "\n",
    "to_plot = data.groupby([\"order\", \"num_eval\"]).agg({rank_or_s2value: \"mean\"}).reset_index()\n",
    "final_option = to_plot[to_plot[\"order\"]==to_plot[\"num_eval\"]].rename(columns={rank_or_s2value: \"final\"}).drop(columns=[\"order\"])\n",
    "to_plot_with_final = to_plot.merge(final_option, how=\"left\")\n",
    "second_to_last_option = to_plot_with_final[to_plot_with_final[\"order\"]==to_plot_with_final[\"num_eval\"]-1]\n",
    "\n",
    "percentage_increase = second_to_last_option.assign(percentage_increase=((second_to_last_option[\"final\"]/second_to_last_option[rank_or_s2value])-1)*100)\n",
    "plt.bar(x=percentage_increase[\"num_eval\"], height=percentage_increase[\"percentage_increase\"])\n",
    "plt.xlabel(\"Total number of options evaluated\")\n",
    "plt.ylabel(f\"Percentage difference in {rank_or_s2value}\")\n",
    "plt.show()\n",
    "\n",
    "difference = second_to_last_option.assign(percentage_increase=second_to_last_option[\"final\"]-second_to_last_option[rank_or_s2value])\n",
    "plt.bar(x=difference[\"num_eval\"], height=difference[\"percentage_increase\"])\n",
    "plt.xlabel(\"Total number of options evaluated\")\n",
    "plt.ylabel(f\"Absolute difference in {rank_or_s2value}\")\n",
    "plt.show()"
   ]
  },
  {
   "cell_type": "code",
   "execution_count": null,
   "metadata": {},
   "outputs": [],
   "source": []
  }
 ],
 "metadata": {
  "kernelspec": {
   "display_name": "Python 3",
   "language": "python",
   "name": "python3"
  },
  "language_info": {
   "codemirror_mode": {
    "name": "ipython",
    "version": 3
   },
   "file_extension": ".py",
   "mimetype": "text/x-python",
   "name": "python",
   "nbconvert_exporter": "python",
   "pygments_lexer": "ipython3",
   "version": "3.7.6"
  }
 },
 "nbformat": 4,
 "nbformat_minor": 4
}

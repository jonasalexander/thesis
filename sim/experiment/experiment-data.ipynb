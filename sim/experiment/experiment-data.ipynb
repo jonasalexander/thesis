{
 "cells": [
  {
   "cell_type": "code",
   "execution_count": null,
   "metadata": {},
   "outputs": [],
   "source": [
    "import pandas as pd\n",
    "import numpy as np\n",
    "import matplotlib.pyplot as plt"
   ]
  },
  {
   "cell_type": "code",
   "execution_count": null,
   "metadata": {},
   "outputs": [],
   "source": [
    "df = pd.read_csv(\"~/Desktop/thesis/sim/experiment/data/Adams_experiment.csv\")"
   ]
  },
  {
   "cell_type": "code",
   "execution_count": null,
   "metadata": {},
   "outputs": [],
   "source": [
    "df.head(24)"
   ]
  },
  {
   "cell_type": "code",
   "execution_count": null,
   "metadata": {},
   "outputs": [],
   "source": [
    "# (a) what condition the participant was in (cond = 1 is gains)\n",
    "\n",
    "# (b) what the stage 1 value of each word was (\"s1_value\")\n",
    "# (c) whether it was in a person's choice set (\"in.cs\")\n",
    "# (d) the reported order in which the words came to mind (\"order\", lower numbers mean they came to mind earlier).\n",
    "\n"
   ]
  },
  {
   "cell_type": "code",
   "execution_count": null,
   "metadata": {},
   "outputs": [],
   "source": [
    "# filter on cond=1 only\n",
    "# sort months by s1 value, which is equivalent to the \"context-free value\"\n",
    "# grouping by the number of options evaluated K (for each), visualize index in list according to s1 value (context-free) of action ultimately chosen\n",
    "\n",
    "# Adam has actually made this super easy - I just get s1_value_rank where chosen=1 and also get num_eval"
   ]
  },
  {
   "cell_type": "code",
   "execution_count": null,
   "metadata": {},
   "outputs": [],
   "source": [
    "# :: Rank According to Vhat of the Action Chosen"
   ]
  },
  {
   "cell_type": "code",
   "execution_count": null,
   "metadata": {},
   "outputs": [],
   "source": [
    "data = df.loc[df[\"cond\"]==1, [\"subject\", \"word\", \"s1_value\", \"s2_value\", \"in.cs\", \"order\", \"chosen\"]]"
   ]
  },
  {
   "cell_type": "code",
   "execution_count": null,
   "metadata": {},
   "outputs": [],
   "source": [
    "num_subjects = len(data[\"subject\"].unique())\n",
    "data = data.sort_values(by=[\"subject\", \"s1_value\"], ascending=False)\n",
    "data = data[data[\"in.cs\"] == True]\n",
    "data[\"s1_order\"] = data.groupby(\"subject\").cumcount()"
   ]
  },
  {
   "cell_type": "code",
   "execution_count": null,
   "metadata": {},
   "outputs": [],
   "source": [
    "num_eval = data[data[\"in.cs\"] == True].groupby(\"subject\").count()[\"chosen\"].rename(\"num_eval\")\n",
    "data = data.merge(num_eval, right_on=\"subject\", left_on=\"subject\")"
   ]
  },
  {
   "cell_type": "code",
   "execution_count": null,
   "metadata": {},
   "outputs": [],
   "source": [
    "chosen = data[data[\"chosen\"] == 1.0]"
   ]
  },
  {
   "cell_type": "code",
   "execution_count": null,
   "metadata": {},
   "outputs": [],
   "source": [
    "for i in range(2, 13):\n",
    "    counts = chosen.loc[chosen[\"num_eval\"] == i, \"s1_order\"]\n",
    "    plt.hist(counts, weights=np.ones(len(counts)) / len(counts))\n",
    "    plt.title(f\"Distribution of rank according to V_hat of action chosen for subjects who evaluated {i} options\")\n",
    "    plt.ylabel(\"Fraction\")\n",
    "    plt.xlabel(\"Index\")\n",
    "    plt.show()"
   ]
  },
  {
   "cell_type": "code",
   "execution_count": null,
   "metadata": {},
   "outputs": [],
   "source": [
    "# create num_eval column\n",
    "num_eval = data.groupby(\"assignmentId\").agg({\"in.cs\": \"sum\"}).rename(columns={\"in.cs\": \"num_eval\"})\n",
    "data = data.merge(num_eval, how=\"left\", on=\"assignmentId\")"
   ]
  },
  {
   "cell_type": "code",
   "execution_count": null,
   "metadata": {},
   "outputs": [],
   "source": [
    "### OLD stuff below"
   ]
  },
  {
   "cell_type": "code",
   "execution_count": null,
   "metadata": {},
   "outputs": [],
   "source": [
    "results = data.loc[data[\"chosen\"] == 1, [\"s1_value_rank\", \"num_eval\", \"order\"]]"
   ]
  },
  {
   "cell_type": "code",
   "execution_count": null,
   "metadata": {},
   "outputs": [],
   "source": [
    "results"
   ]
  },
  {
   "cell_type": "code",
   "execution_count": null,
   "metadata": {},
   "outputs": [],
   "source": [
    "import matplotlib.pyplot as plt"
   ]
  },
  {
   "cell_type": "code",
   "execution_count": null,
   "metadata": {},
   "outputs": [],
   "source": [
    "for num_eval in range(1, 13):\n",
    "    plt.hist(results.loc[results[\"num_eval\"] == num_eval, \"s1_value_rank\"])\n",
    "    plt.show()"
   ]
  },
  {
   "cell_type": "code",
   "execution_count": null,
   "metadata": {},
   "outputs": [],
   "source": [
    "# or is what I'm interested in rank in order?\n",
    "for num_eval in range(1, 13):\n",
    "    plt.hist(results.loc[results[\"num_eval\"] == num_eval, \"order\"])\n",
    "    plt.show()"
   ]
  },
  {
   "cell_type": "code",
   "execution_count": null,
   "metadata": {},
   "outputs": [],
   "source": [
    "plt.hist(results[\"num_eval\"])\n",
    "plt.show()"
   ]
  },
  {
   "cell_type": "code",
   "execution_count": null,
   "metadata": {},
   "outputs": [],
   "source": [
    "results"
   ]
  },
  {
   "cell_type": "code",
   "execution_count": null,
   "metadata": {},
   "outputs": [],
   "source": [
    "# looks like s1_value_rank is calculated incorrectly, see:\n",
    "data[data[\"assignmentId\"] == \"31IBVUNM9S0EN4PJSPQR7C3W25FFVB\"]"
   ]
  },
  {
   "cell_type": "code",
   "execution_count": null,
   "metadata": {},
   "outputs": [],
   "source": []
  },
  {
   "cell_type": "code",
   "execution_count": null,
   "metadata": {},
   "outputs": [],
   "source": [
    "# next step: try relative s1 rank - rank among the options evaluated\n",
    "# this will be equivalent for our theoretical model because options come to mind in order of s1 value\n",
    "# but not for subjects\n"
   ]
  }
 ],
 "metadata": {
  "kernelspec": {
   "display_name": "Python 3",
   "language": "python",
   "name": "python3"
  },
  "language_info": {
   "codemirror_mode": {
    "name": "ipython",
    "version": 3
   },
   "file_extension": ".py",
   "mimetype": "text/x-python",
   "name": "python",
   "nbconvert_exporter": "python",
   "pygments_lexer": "ipython3",
   "version": "3.7.6"
  }
 },
 "nbformat": 4,
 "nbformat_minor": 4
}

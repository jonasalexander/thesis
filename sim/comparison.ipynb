{
 "cells": [
  {
   "cell_type": "code",
   "execution_count": null,
   "metadata": {},
   "outputs": [],
   "source": [
    "%load_ext autoreload"
   ]
  },
  {
   "cell_type": "code",
   "execution_count": null,
   "metadata": {},
   "outputs": [],
   "source": [
    "%autoreload\n",
    "from environment import DecisionEnvironment, DecisionEnvironmentGrid\n",
    "\n",
    "env = DecisionEnvironment(N=12, \n",
    "                          k_values=[1, 2, 3, 4, 5, 6, 7],\n",
    "                          num_trials=1000)"
   ]
  },
  {
   "cell_type": "code",
   "execution_count": null,
   "metadata": {},
   "outputs": [],
   "source": [
    "%autoreload\n",
    "from decision_maker import FixedDecisionMaker, DynamicDecisionMaker\n",
    "\n",
    "ddm = DynamicDecisionMaker(env)\n",
    "K1 = FixedDecisionMaker(env, 1)\n",
    "K2 = FixedDecisionMaker(env, 2)\n",
    "K3 = FixedDecisionMaker(env, 3)\n",
    "K5 = FixedDecisionMaker(env, 5)\n",
    "\n",
    "agents = [ddm, K1, K2, K3, K5]\n"
   ]
  },
  {
   "cell_type": "code",
   "execution_count": null,
   "metadata": {},
   "outputs": [],
   "source": [
    "%autoreload\n",
    "\n",
    "for agent in agents:\n",
    "    agent.decide()"
   ]
  },
  {
   "cell_type": "code",
   "execution_count": null,
   "metadata": {},
   "outputs": [],
   "source": [
    "%autoreload\n",
    "\n",
    "from visualize import plot_agent_data\n",
    "\n",
    "plot_agent_data([ddm, K1])\n",
    "plot_agent_data([ddm, K2])\n",
    "plot_agent_data([ddm, K3])\n",
    "plot_agent_data([ddm, K5])\n",
    "plot_agent_data([K1, K2, K3, K5])"
   ]
  },
  {
   "cell_type": "code",
   "execution_count": null,
   "metadata": {},
   "outputs": [],
   "source": [
    "%autoreload\n",
    "\n",
    "from visualize import plot_vhat_index_comparison\n",
    "\n",
    "plot_vhat_index_comparison(ddm, K2)\n",
    "plot_vhat_index_comparison(ddm, K3)\n",
    "plot_vhat_index_comparison(ddm, K5)"
   ]
  },
  {
   "cell_type": "code",
   "execution_count": null,
   "metadata": {},
   "outputs": [],
   "source": [
    "dm.plot_num_eval_index(limit=100)"
   ]
  },
  {
   "cell_type": "code",
   "execution_count": null,
   "metadata": {},
   "outputs": [],
   "source": [
    "env.plot_action_values()"
   ]
  },
  {
   "cell_type": "code",
   "execution_count": null,
   "metadata": {},
   "outputs": [],
   "source": [
    "env.plot_vhats()"
   ]
  },
  {
   "cell_type": "code",
   "execution_count": null,
   "metadata": {},
   "outputs": [],
   "source": [
    "# TODO as a function of cost_eval (decision maker)"
   ]
  },
  {
   "cell_type": "code",
   "execution_count": null,
   "metadata": {},
   "outputs": [],
   "source": [
    "import matplotlib.pyplot as plt\n",
    "index_from_end = dm.data[\"num_eval\"] - dm.data[\"dynamic_index_Vhat\"]\n",
    "plt.hist(index_from_end, bins=range(1,int(max(index_from_end))))\n",
    "plt.show()\n",
    "\n",
    "plt.hist(dm.data[\"num_eval\"])\n",
    "plt.show()\n",
    "\n",
    "plt.hist(dm.data[\"dynamic_index_Vhat\"])\n",
    "plt.show()\n",
    "\n",
    "# the fact that there are so many 1s here\n",
    "# is in part a function of only evaluating 1 action frequently\n",
    "# - the K1 agent only chooses the last action they evaluate\n",
    "# so maybe just remove instances where num_eval is 1?"
   ]
  },
  {
   "cell_type": "code",
   "execution_count": null,
   "metadata": {},
   "outputs": [],
   "source": []
  }
 ],
 "metadata": {
  "kernelspec": {
   "display_name": "Python 3",
   "language": "python",
   "name": "python3"
  },
  "language_info": {
   "codemirror_mode": {
    "name": "ipython",
    "version": 3
   },
   "file_extension": ".py",
   "mimetype": "text/x-python",
   "name": "python",
   "nbconvert_exporter": "python",
   "pygments_lexer": "ipython3",
   "version": "3.7.6"
  }
 },
 "nbformat": 4,
 "nbformat_minor": 4
}

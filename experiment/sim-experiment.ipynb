{
 "cells": [
  {
   "cell_type": "code",
   "execution_count": 60,
   "metadata": {},
   "outputs": [],
   "source": [
    "import pandas as pd\n",
    "import numpy as np\n",
    "import random\n",
    "import matplotlib.pyplot as plt"
   ]
  },
  {
   "cell_type": "code",
   "execution_count": 61,
   "metadata": {},
   "outputs": [],
   "source": [
    "months = [\"JANUARY\", \"FEBRUARY\", \"MARCH\", \"APRIL\", \"MAY\", \"JUNE\", \"JULY\", \"AUGUST\", \"SEPTEMBER\", \"OCTOBER\", \"NOVEMBER\", \"DECEMBER\"]\n",
    "month_values = [14, 2, 18, 18, 25, 14, 12, 7, 16, 20, 22, 3]"
   ]
  },
  {
   "cell_type": "code",
   "execution_count": 79,
   "metadata": {},
   "outputs": [],
   "source": [
    "# randomly sample from month_values uniformly at random, keeping track of the best value so far\n",
    "num_trials = 1000"
   ]
  },
  {
   "cell_type": "code",
   "execution_count": 80,
   "metadata": {},
   "outputs": [],
   "source": [
    "# stopping rule: randomly with probability \n",
    "stop_proba = 0.2\n",
    "\n",
    "result = pd.DataFrame(columns=[\"value\", \"order\", \"trial\", \"highest_value_so_far\", \"did_continue_eval\"])\n",
    "for i in range(num_trials):\n",
    "    options_not_yet_considered = set(month_values)\n",
    "    j = 0\n",
    "    highest_value_so_far = 0\n",
    "    while options_not_yet_considered:\n",
    "        option = random.sample(options_not_yet_considered, 1)[0]\n",
    "        highest_value_so_far = max(highest_value_so_far, option)\n",
    "        \n",
    "        options_not_yet_considered.remove(option)\n",
    "        quit = np.random.binomial(1, stop_proba) == 0\n",
    "        if quit:\n",
    "            options_not_yet_considered = set([])\n",
    "        \n",
    "        result = result.append({\"value\": option, \"order\": j, \"trial\": i, \"highest_value_so_far\": highest_value_so_far, \"did_continue_eval\": not quit}, ignore_index=True)\n",
    "        j += 1"
   ]
  },
  {
   "cell_type": "code",
   "execution_count": 81,
   "metadata": {},
   "outputs": [],
   "source": [
    "result = result.astype({'did_continue_eval': 'bool'})"
   ]
  },
  {
   "cell_type": "code",
   "execution_count": 82,
   "metadata": {},
   "outputs": [
    {
     "data": {
      "image/png": "[encoded data removed]",
      "text/plain": [
       "<Figure size 432x288 with 1 Axes>"
      ]
     },
     "metadata": {
      "needs_background": "light"
     },
     "output_type": "display_data"
    }
   ],
   "source": [
    "order_filter = 2\n",
    "filtered_result = result[result[\"order\"]==order_filter]\n",
    "\n",
    "minimum = min(month_values)\n",
    "maximim = max(month_values)\n",
    "non_last_eval = filtered_result.loc[filtered_result[\"did_continue_eval\"], \"highest_value_so_far\"]\n",
    "last_eval = filtered_result.loc[~filtered_result[\"did_continue_eval\"], \"highest_value_so_far\"]\n",
    "\n",
    "bins = np.linspace(minimum, maximim, 10)\n",
    "\n",
    "plt.hist(non_last_eval, bins, alpha=0.5, label='continued evaluating', weights=np.ones(len(non_last_eval)) / len(non_last_eval))\n",
    "plt.hist(last_eval, bins, alpha=0.5, label='stopped', weights=np.ones(len(last_eval)) / len(last_eval))\n",
    "plt.legend(loc='upper left')\n",
    "plt.xlabel(\"Value of best action so far\")\n",
    "plt.ylabel(\"Percentage of situations\")\n",
    "plt.show()"
   ]
  },
  {
   "cell_type": "code",
   "execution_count": null,
   "metadata": {},
   "outputs": [],
   "source": []
  },
  {
   "cell_type": "code",
   "execution_count": 29,
   "metadata": {},
   "outputs": [],
   "source": [
    "# stopping rule: threshold"
   ]
  },
  {
   "cell_type": "code",
   "execution_count": null,
   "metadata": {},
   "outputs": [],
   "source": []
  }
 ],
 "metadata": {
  "kernelspec": {
   "display_name": "Python 3",
   "language": "python",
   "name": "python3"
  },
  "language_info": {
   "codemirror_mode": {
    "name": "ipython",
    "version": 3
   },
   "file_extension": ".py",
   "mimetype": "text/x-python",
   "name": "python",
   "nbconvert_exporter": "python",
   "pygments_lexer": "ipython3",
   "version": "3.7.6"
  }
 },
 "nbformat": 4,
 "nbformat_minor": 4
}
